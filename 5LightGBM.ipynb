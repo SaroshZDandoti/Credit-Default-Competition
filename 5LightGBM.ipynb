{
 "cells": [
  {
   "cell_type": "code",
   "execution_count": 29,
   "metadata": {},
   "outputs": [],
   "source": [
    "import lightgbm as lgb\n",
    "\n",
    "import numpy as np\n",
    "import matplotlib.pyplot as plt\n",
    "import pandas as pd\n",
    "from sklearn import preprocessing\n",
    "from sklearn.model_selection import RepeatedStratifiedKFold\n",
    "from sklearn.model_selection import GridSearchCV\n",
    "from sklearn import metrics \n",
    "from lightgbm import LGBMClassifier"
   ]
  },
  {
   "cell_type": "code",
   "execution_count": 20,
   "metadata": {},
   "outputs": [
    {
     "name": "stdout",
     "output_type": "stream",
     "text": [
      "(43508, 16) (43508,)\n"
     ]
    },
    {
     "data": {
      "text/html": [
       "<div>\n",
       "<style scoped>\n",
       "    .dataframe tbody tr th:only-of-type {\n",
       "        vertical-align: middle;\n",
       "    }\n",
       "\n",
       "    .dataframe tbody tr th {\n",
       "        vertical-align: top;\n",
       "    }\n",
       "\n",
       "    .dataframe thead th {\n",
       "        text-align: right;\n",
       "    }\n",
       "</style>\n",
       "<table border=\"1\" class=\"dataframe\">\n",
       "  <thead>\n",
       "    <tr style=\"text-align: right;\">\n",
       "      <th></th>\n",
       "      <th>age</th>\n",
       "      <th>gender</th>\n",
       "      <th>owns_car</th>\n",
       "      <th>owns_house</th>\n",
       "      <th>no_of_children</th>\n",
       "      <th>net_yearly_income</th>\n",
       "      <th>no_of_days_employed</th>\n",
       "      <th>total_family_members</th>\n",
       "      <th>migrant_worker</th>\n",
       "      <th>yearly_debt_payments</th>\n",
       "      <th>credit_limit</th>\n",
       "      <th>credit_limit_used(%)</th>\n",
       "      <th>credit_score</th>\n",
       "      <th>prev_defaults</th>\n",
       "      <th>default_in_last_6months</th>\n",
       "    </tr>\n",
       "    <tr>\n",
       "      <th>customer_id</th>\n",
       "      <th></th>\n",
       "      <th></th>\n",
       "      <th></th>\n",
       "      <th></th>\n",
       "      <th></th>\n",
       "      <th></th>\n",
       "      <th></th>\n",
       "      <th></th>\n",
       "      <th></th>\n",
       "      <th></th>\n",
       "      <th></th>\n",
       "      <th></th>\n",
       "      <th></th>\n",
       "      <th></th>\n",
       "      <th></th>\n",
       "    </tr>\n",
       "  </thead>\n",
       "  <tbody>\n",
       "    <tr>\n",
       "      <th>CST_115179</th>\n",
       "      <td>46</td>\n",
       "      <td>0</td>\n",
       "      <td>0.0</td>\n",
       "      <td>1</td>\n",
       "      <td>0.0</td>\n",
       "      <td>-0.135900</td>\n",
       "      <td>-0.480983</td>\n",
       "      <td>1.0</td>\n",
       "      <td>1.0</td>\n",
       "      <td>0.072774</td>\n",
       "      <td>-0.163817</td>\n",
       "      <td>73</td>\n",
       "      <td>544</td>\n",
       "      <td>2</td>\n",
       "      <td>1</td>\n",
       "    </tr>\n",
       "    <tr>\n",
       "      <th>CST_121920</th>\n",
       "      <td>29</td>\n",
       "      <td>1</td>\n",
       "      <td>0.0</td>\n",
       "      <td>1</td>\n",
       "      <td>0.0</td>\n",
       "      <td>-0.133081</td>\n",
       "      <td>-0.465489</td>\n",
       "      <td>2.0</td>\n",
       "      <td>0.0</td>\n",
       "      <td>-0.954202</td>\n",
       "      <td>-0.038524</td>\n",
       "      <td>52</td>\n",
       "      <td>857</td>\n",
       "      <td>0</td>\n",
       "      <td>0</td>\n",
       "    </tr>\n",
       "    <tr>\n",
       "      <th>CST_109330</th>\n",
       "      <td>37</td>\n",
       "      <td>1</td>\n",
       "      <td>0.0</td>\n",
       "      <td>1</td>\n",
       "      <td>0.0</td>\n",
       "      <td>0.042769</td>\n",
       "      <td>-0.483912</td>\n",
       "      <td>2.0</td>\n",
       "      <td>0.0</td>\n",
       "      <td>0.961142</td>\n",
       "      <td>-0.013187</td>\n",
       "      <td>43</td>\n",
       "      <td>650</td>\n",
       "      <td>0</td>\n",
       "      <td>0</td>\n",
       "    </tr>\n",
       "    <tr>\n",
       "      <th>CST_128288</th>\n",
       "      <td>39</td>\n",
       "      <td>0</td>\n",
       "      <td>0.0</td>\n",
       "      <td>1</td>\n",
       "      <td>0.0</td>\n",
       "      <td>-0.114861</td>\n",
       "      <td>-0.399679</td>\n",
       "      <td>2.0</td>\n",
       "      <td>0.0</td>\n",
       "      <td>-0.534813</td>\n",
       "      <td>-0.072174</td>\n",
       "      <td>20</td>\n",
       "      <td>754</td>\n",
       "      <td>0</td>\n",
       "      <td>0</td>\n",
       "    </tr>\n",
       "    <tr>\n",
       "      <th>CST_151355</th>\n",
       "      <td>46</td>\n",
       "      <td>1</td>\n",
       "      <td>1.0</td>\n",
       "      <td>1</td>\n",
       "      <td>0.0</td>\n",
       "      <td>0.272478</td>\n",
       "      <td>-0.474905</td>\n",
       "      <td>1.0</td>\n",
       "      <td>0.0</td>\n",
       "      <td>0.374525</td>\n",
       "      <td>0.061461</td>\n",
       "      <td>75</td>\n",
       "      <td>927</td>\n",
       "      <td>0</td>\n",
       "      <td>0</td>\n",
       "    </tr>\n",
       "  </tbody>\n",
       "</table>\n",
       "</div>"
      ],
      "text/plain": [
       "             age  gender  owns_car  owns_house  no_of_children  \\\n",
       "customer_id                                                      \n",
       "CST_115179    46       0       0.0           1             0.0   \n",
       "CST_121920    29       1       0.0           1             0.0   \n",
       "CST_109330    37       1       0.0           1             0.0   \n",
       "CST_128288    39       0       0.0           1             0.0   \n",
       "CST_151355    46       1       1.0           1             0.0   \n",
       "\n",
       "             net_yearly_income  no_of_days_employed  total_family_members  \\\n",
       "customer_id                                                                 \n",
       "CST_115179           -0.135900            -0.480983                   1.0   \n",
       "CST_121920           -0.133081            -0.465489                   2.0   \n",
       "CST_109330            0.042769            -0.483912                   2.0   \n",
       "CST_128288           -0.114861            -0.399679                   2.0   \n",
       "CST_151355            0.272478            -0.474905                   1.0   \n",
       "\n",
       "             migrant_worker  yearly_debt_payments  credit_limit  \\\n",
       "customer_id                                                       \n",
       "CST_115179              1.0              0.072774     -0.163817   \n",
       "CST_121920              0.0             -0.954202     -0.038524   \n",
       "CST_109330              0.0              0.961142     -0.013187   \n",
       "CST_128288              0.0             -0.534813     -0.072174   \n",
       "CST_151355              0.0              0.374525      0.061461   \n",
       "\n",
       "             credit_limit_used(%)  credit_score  prev_defaults  \\\n",
       "customer_id                                                      \n",
       "CST_115179                     73           544              2   \n",
       "CST_121920                     52           857              0   \n",
       "CST_109330                     43           650              0   \n",
       "CST_128288                     20           754              0   \n",
       "CST_151355                     75           927              0   \n",
       "\n",
       "             default_in_last_6months  \n",
       "customer_id                           \n",
       "CST_115179                         1  \n",
       "CST_121920                         0  \n",
       "CST_109330                         0  \n",
       "CST_128288                         0  \n",
       "CST_151355                         0  "
      ]
     },
     "execution_count": 20,
     "metadata": {},
     "output_type": "execute_result"
    }
   ],
   "source": [
    "\n",
    "# %%\n",
    "\n",
    "# import dataset\n",
    "dataset = pd.read_csv('csv/cleaned_train_all.csv')\n",
    "\n",
    "\n",
    "x = dataset.drop(['credit_card_default'], axis = 1)\n",
    "y = dataset['credit_card_default'].values\n",
    "print(x.shape, y.shape)\n",
    "\n",
    "\n",
    "# %%\n",
    "\n",
    "\n",
    "scalar =  preprocessing.StandardScaler()\n",
    "\n",
    "# copy of datasets\n",
    "X_train = x.copy()\n",
    "\n",
    "# numerical features\n",
    "\n",
    "# #for all \n",
    "num_cols = ['net_yearly_income','no_of_days_employed','yearly_debt_payments','credit_limit']\n",
    "\n",
    "# #for less\n",
    "# num_cols = [\"credit_limit_used(%)\", \"credit_score\"]\n",
    "\n",
    "#apply standardization on numerical features\n",
    "for i in num_cols:\n",
    "    \n",
    "    # fit on training data column\n",
    "    scale = scalar.fit(X_train[[i]])\n",
    "    \n",
    "    # transform the training data column\n",
    "    X_train[i] = scale.transform(X_train[[i]])\n",
    "\n",
    "X_train = X_train.set_index('customer_id')\n",
    "X_train.head()\n"
   ]
  },
  {
   "cell_type": "code",
   "execution_count": 21,
   "metadata": {},
   "outputs": [],
   "source": [
    "from sklearn.model_selection import train_test_split\n",
    "\n",
    "X_train, X_test, y_train, y_test = train_test_split(X_train, y, test_size = 0.33, random_state=42)\n"
   ]
  },
  {
   "cell_type": "code",
   "execution_count": 30,
   "metadata": {},
   "outputs": [
    {
     "data": {
      "text/plain": [
       "LGBMClassifier()"
      ]
     },
     "execution_count": 30,
     "metadata": {},
     "output_type": "execute_result"
    }
   ],
   "source": [
    "param_grid = {\n",
    "    'class_weight': [None, 'balanced'],\n",
    "    'boosting_type': ['gbdt', 'goss', 'dart'],\n",
    "    'num_leaves': list(range(30, 150)),\n",
    "    'learning_rate': [0.01,0.1,0.5],\n",
    "    'subsample_for_bin': [20000,50000,100000,120000,150000],\n",
    "    'min_child_samples': [20,50,100,200,500],\n",
    "    'colsample_bytree': [0.6,0.8,1],\n",
    "    \"max_depth\": [5,10,50,100]\n",
    "}\n",
    "\n",
    "lgbm = LGBMClassifier() # Shortname the LGBMClassifier()\n",
    "lgbm.fit(X_train, y_train) # Train the lgbm on train sets"
   ]
  },
  {
   "cell_type": "code",
   "execution_count": 31,
   "metadata": {},
   "outputs": [
    {
     "name": "stdout",
     "output_type": "stream",
     "text": [
      "0.918\n"
     ]
    }
   ],
   "source": [
    "from sklearn.metrics import accuracy_score\n",
    "\n",
    "lgbm_tuned = LGBMClassifier(boosting_type = 'gbdt',\n",
    "                            class_weight = None,\n",
    "                            min_child_samples = 20,\n",
    "                            num_leaves = 30,\n",
    "                            subsample_for_bin = 20000,\n",
    "                            learning_rate=0.01, \n",
    "                            max_depth=10, \n",
    "                            n_estimators=40, \n",
    "                            colsample_bytree=0.6) # LightGBM Classifier with optimum paramteres\n",
    "lgbm_tuned.fit(X_train, y_train)\n",
    "\n",
    "y_test_pred = lgbm_tuned.predict(X_test) #Predicting X_test to find the solutiın\n",
    "score = round(accuracy_score(y_test, y_test_pred), 3) # Find the accuracy of y_test and predicitons, and round the result\n",
    "print(score)\n",
    "\n"
   ]
  },
  {
   "cell_type": "code",
   "execution_count": 32,
   "metadata": {},
   "outputs": [
    {
     "data": {
      "text/plain": [
       "array([0, 0, 0, ..., 0, 0, 0], dtype=int64)"
      ]
     },
     "execution_count": 32,
     "metadata": {},
     "output_type": "execute_result"
    }
   ],
   "source": [
    "y_test_pred"
   ]
  },
  {
   "cell_type": "code",
   "execution_count": 33,
   "metadata": {},
   "outputs": [
    {
     "name": "stdout",
     "output_type": "stream",
     "text": [
      "              precision    recall  f1-score   support\n",
      "\n",
      "           0       0.92      1.00      0.96     13177\n",
      "           1       0.00      0.00      0.00      1181\n",
      "\n",
      "    accuracy                           0.92     14358\n",
      "   macro avg       0.46      0.50      0.48     14358\n",
      "weighted avg       0.84      0.92      0.88     14358\n",
      "\n"
     ]
    },
    {
     "name": "stderr",
     "output_type": "stream",
     "text": [
      "C:\\ProgramData\\Anaconda3\\lib\\site-packages\\sklearn\\metrics\\_classification.py:1308: UndefinedMetricWarning: Precision and F-score are ill-defined and being set to 0.0 in labels with no predicted samples. Use `zero_division` parameter to control this behavior.\n",
      "  _warn_prf(average, modifier, msg_start, len(result))\n",
      "C:\\ProgramData\\Anaconda3\\lib\\site-packages\\sklearn\\metrics\\_classification.py:1308: UndefinedMetricWarning: Precision and F-score are ill-defined and being set to 0.0 in labels with no predicted samples. Use `zero_division` parameter to control this behavior.\n",
      "  _warn_prf(average, modifier, msg_start, len(result))\n",
      "C:\\ProgramData\\Anaconda3\\lib\\site-packages\\sklearn\\metrics\\_classification.py:1308: UndefinedMetricWarning: Precision and F-score are ill-defined and being set to 0.0 in labels with no predicted samples. Use `zero_division` parameter to control this behavior.\n",
      "  _warn_prf(average, modifier, msg_start, len(result))\n"
     ]
    }
   ],
   "source": [
    "# Classification Report\n",
    "from sklearn.metrics import classification_report\n",
    "print(classification_report(y_test, y_test_pred))"
   ]
  },
  {
   "cell_type": "code",
   "execution_count": 34,
   "metadata": {},
   "outputs": [
    {
     "name": "stdout",
     "output_type": "stream",
     "text": [
      "Confusion matrix : \n",
      " [[    0  1181]\n",
      " [    0 13177]]\n"
     ]
    }
   ],
   "source": [
    "from sklearn.metrics import confusion_matrix\n",
    "\n",
    "matrix = confusion_matrix(y_test,y_test_pred, labels=[1,0])\n",
    "print('Confusion matrix : \\n',matrix)"
   ]
  },
  {
   "cell_type": "code",
   "execution_count": null,
   "metadata": {},
   "outputs": [],
   "source": []
  }
 ],
 "metadata": {
  "interpreter": {
   "hash": "b3ba2566441a7c06988d0923437866b63cedc61552a5af99d1f4fb67d367b25f"
  },
  "kernelspec": {
   "display_name": "Python 3.8.8 64-bit ('base': conda)",
   "language": "python",
   "name": "python3"
  },
  "language_info": {
   "codemirror_mode": {
    "name": "ipython",
    "version": 3
   },
   "file_extension": ".py",
   "mimetype": "text/x-python",
   "name": "python",
   "nbconvert_exporter": "python",
   "pygments_lexer": "ipython3",
   "version": "3.8.8"
  },
  "orig_nbformat": 4
 },
 "nbformat": 4,
 "nbformat_minor": 2
}
